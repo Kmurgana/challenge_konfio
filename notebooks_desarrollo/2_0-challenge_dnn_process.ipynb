{
 "cells": [
  {
   "cell_type": "markdown",
   "metadata": {},
   "source": [
    "# 3. Data Preparation:\n",
    "\n",
    "This phase covers all activities to construct the final dataset (data that will be fed into the modeling tools) from the initial raw data. Tasks usually include table, record, and attribute selection as well as transformation and cleaning of data for modeling tools."
   ]
  },
  {
   "cell_type": "markdown",
   "metadata": {},
   "source": [
    "Text Cleaning and Normalization\n",
    "\n",
    "1. Remove special characters and numbers: We'll use regex to remove any non-alphabetic characters, keeping only letters and spaces.\n",
    "2. Convert to lowercase: This step ensures consistency across all text entries.\n",
    "3. Remove accents: Spanish text often contains accented characters, which we'll normalize to their non-accented equivalents.\n",
    "4. Remove extra whitespaces: Trim leading and trailing spaces and replace multiple spaces with a single space.\n",
    "\n",
    "!python -m spacy download es_core_news_sm"
   ]
  },
  {
   "cell_type": "code",
   "execution_count": 1,
   "metadata": {},
   "outputs": [],
   "source": [
    "# Import necessary libraries\n",
    "import pandas as pd\n",
    "import numpy as np\n",
    "import matplotlib.pyplot as plt\n",
    "import seaborn as sns\n",
    "# Example: Word frequency analysis for insights into common terms in \"motivos\"\n",
    "from collections import Counter\n",
    "from wordcloud import WordCloud\n",
    "\n",
    "from collections import Counter\n",
    "import re\n",
    "from wordcloud import WordCloud\n",
    "import matplotlib.pyplot as plt\n",
    "\n",
    "\n",
    "from sklearn.model_selection import train_test_split\n",
    "from sklearn.feature_extraction.text import TfidfVectorizer\n",
    "from sklearn.preprocessing import MultiLabelBinarizer\n",
    "import re\n",
    "import unicodedata\n",
    "import spacy\n",
    "from collections import defaultdict"
   ]
  },
  {
   "cell_type": "markdown",
   "metadata": {},
   "source": [
    "## 3.1 Null or NaN fixing"
   ]
  },
  {
   "cell_type": "code",
   "execution_count": 2,
   "metadata": {},
   "outputs": [],
   "source": [
    "# Load the dataset\n",
    "df = pd.read_csv('../files/intent.csv')"
   ]
  },
  {
   "cell_type": "code",
   "execution_count": 3,
   "metadata": {},
   "outputs": [
    {
     "name": "stdout",
     "output_type": "stream",
     "text": [
      "<class 'pandas.core.frame.DataFrame'>\n",
      "RangeIndex: 6679 entries, 0 to 6678\n",
      "Data columns (total 11 columns):\n",
      " #   Column   Non-Null Count  Dtype  \n",
      "---  ------   --------------  -----  \n",
      " 0   motivos  6679 non-null   object \n",
      " 1   crec     6679 non-null   int64  \n",
      " 2   cred     6679 non-null   int64  \n",
      " 3   equ      6679 non-null   int64  \n",
      " 4   inic     6679 non-null   int64  \n",
      " 5   inv      6679 non-null   int64  \n",
      " 6   mkt      6679 non-null   int64  \n",
      " 7   no       6679 non-null   int64  \n",
      " 8   renta    6679 non-null   int64  \n",
      " 9   sueldo   6679 non-null   int64  \n",
      " 10  temp     6673 non-null   float64\n",
      "dtypes: float64(1), int64(9), object(1)\n",
      "memory usage: 574.1+ KB\n"
     ]
    }
   ],
   "source": [
    "df.info()"
   ]
  },
  {
   "cell_type": "code",
   "execution_count": 4,
   "metadata": {},
   "outputs": [
    {
     "data": {
      "text/plain": [
       "'Capital de trabajo\\n,0,0,0,0,0,0,0,1,0,0\\nRe invertir en materiales de manufacturacion,0,0,0,0,1,0,0,0,0,0\\nPARA COMPRAR MAS PRODUCTOS  ASI COMO REFRIGERADORES.,0,0,1,0,1,0,0,0,0,0\\nPARA COMPRA DE EQUIPO DE COMPUTO Y CONSUMIBLES,0,0,1,0,0,0,0,0,0,0\\nInversión en desarrollo departamentos y compra de herramientas para la empresa,0,0,1,0,0,0,0,0,0,0\\nRealizar ampliación de mi negocio independiente,1,0,0,0,0,0,0,0,0,0\\nPara materias primas herramientas insumos y ampliación,0,0,0,0,1,0,0,0,0,0\\nIncrementar mi negocio comprando suministros y manejar mas créditos,0,0,0,0,1,0,0,0,0,0\\nInvertir en equipo de computo y tecnologias de la información,0,0,1,0,0,0,0,0,0,0\\nInversion en productos y pago de facturas,0,1,0,0,0,0,0,0,0,0\\nRe invertir en materiales de manufacturacion,0,0,1,0,0,0,0,0,0,0\\nPAGAR CREDITOS CAROS E IMPUESTOS PENDIENTES,0,1,0,0,0,0,0,0,0,0\\nExpancion y remodelacion de mobiliario del negocio,0,0,0,0,0,0,0,1,0,0\\nCompra y diversificación de productos.El negocio es virtual y con el préstamo habría posibilidad de tener un lugar físico para vender los productos.,0,0,0,0,1,0,0,0,0,0\\nPara inversión en las obras para poder entrar a trabajar costeando los gastos inmediatos de la obra y comprar equipo ,0,0,1,0,0,0,0,0,0,0\\ninversion de crecimiento en papeleria y mejora del mismo,1,0,0,0,0,0,0,0,0,0\\nPONDRÉ UN NEGOCIO DE UN CYBER Y SOPORTE TÉCNICO DE EQUIPOS DE COMPUTO,0,0,0,1,0,0,0,0,0,0\\nPara incrementar mercancia en inventario,0,0,0,0,1,0,0,0,0,0\\nPara expancion de productibidad y compra de makinaria para poder contratar mas enpleados,0,0,1,0,0,0,0,0,0,0\\nINVERSIÓN EN EQUIPO DE TRABAJO Y CONSUMIBLES,0,0,1,0,0,0,0,0,0,0\\nPARA TENER LIQUIDEZ PARA COMPRA DE REFACCIONES,0,0,0,0,1,0,0,0,0,0\\nsoy empleado federal del gobierno pero quiero invertir en proyectos de educacion clases particulares de matematicas a nivel primaria.,0,0,0,0,0,0,1,0,0,0\\nCAPITAL DE TRABAJO CRECIMIENTO DE LA EMPRESA Y PROYECTOS A CORTO PLAZO\"'"
      ]
     },
     "execution_count": 4,
     "metadata": {},
     "output_type": "execute_result"
    }
   ],
   "source": [
    "# As we saw in the data analysis phase, the only value that doesn't have any category and is a nan is the row 1130, so lets see what are the \"motivos\" here\n",
    "df.loc[1130]['motivos']"
   ]
  },
  {
   "cell_type": "code",
   "execution_count": 5,
   "metadata": {},
   "outputs": [
    {
     "data": {
      "text/html": [
       "<div>\n",
       "<style scoped>\n",
       "    .dataframe tbody tr th:only-of-type {\n",
       "        vertical-align: middle;\n",
       "    }\n",
       "\n",
       "    .dataframe tbody tr th {\n",
       "        vertical-align: top;\n",
       "    }\n",
       "\n",
       "    .dataframe thead th {\n",
       "        text-align: right;\n",
       "    }\n",
       "</style>\n",
       "<table border=\"1\" class=\"dataframe\">\n",
       "  <thead>\n",
       "    <tr style=\"text-align: right;\">\n",
       "      <th></th>\n",
       "      <th>motivos</th>\n",
       "      <th>crec</th>\n",
       "      <th>cred</th>\n",
       "      <th>equ</th>\n",
       "      <th>inic</th>\n",
       "      <th>inv</th>\n",
       "      <th>mkt</th>\n",
       "      <th>no</th>\n",
       "      <th>renta</th>\n",
       "      <th>sueldo</th>\n",
       "      <th>temp</th>\n",
       "    </tr>\n",
       "  </thead>\n",
       "  <tbody>\n",
       "    <tr>\n",
       "      <th>0</th>\n",
       "      <td>Capital de trabajo</td>\n",
       "      <td>0.0</td>\n",
       "      <td>0.0</td>\n",
       "      <td>0.0</td>\n",
       "      <td>0.0</td>\n",
       "      <td>0.0</td>\n",
       "      <td>0.0</td>\n",
       "      <td>0.0</td>\n",
       "      <td>1.0</td>\n",
       "      <td>0.0</td>\n",
       "      <td>0.0</td>\n",
       "    </tr>\n",
       "    <tr>\n",
       "      <th>1</th>\n",
       "      <td>Re invertir en materiales de manufacturacion</td>\n",
       "      <td>0.0</td>\n",
       "      <td>0.0</td>\n",
       "      <td>0.0</td>\n",
       "      <td>0.0</td>\n",
       "      <td>1.0</td>\n",
       "      <td>0.0</td>\n",
       "      <td>0.0</td>\n",
       "      <td>0.0</td>\n",
       "      <td>0.0</td>\n",
       "      <td>0.0</td>\n",
       "    </tr>\n",
       "    <tr>\n",
       "      <th>2</th>\n",
       "      <td>PARA COMPRAR MAS PRODUCTOS  ASI COMO REFRIGERA...</td>\n",
       "      <td>0.0</td>\n",
       "      <td>0.0</td>\n",
       "      <td>1.0</td>\n",
       "      <td>0.0</td>\n",
       "      <td>1.0</td>\n",
       "      <td>0.0</td>\n",
       "      <td>0.0</td>\n",
       "      <td>0.0</td>\n",
       "      <td>0.0</td>\n",
       "      <td>0.0</td>\n",
       "    </tr>\n",
       "    <tr>\n",
       "      <th>3</th>\n",
       "      <td>PARA COMPRA DE EQUIPO DE COMPUTO Y CONSUMIBLES</td>\n",
       "      <td>0.0</td>\n",
       "      <td>0.0</td>\n",
       "      <td>1.0</td>\n",
       "      <td>0.0</td>\n",
       "      <td>0.0</td>\n",
       "      <td>0.0</td>\n",
       "      <td>0.0</td>\n",
       "      <td>0.0</td>\n",
       "      <td>0.0</td>\n",
       "      <td>0.0</td>\n",
       "    </tr>\n",
       "    <tr>\n",
       "      <th>4</th>\n",
       "      <td>Inversión en desarrollo departamentos y compra...</td>\n",
       "      <td>0.0</td>\n",
       "      <td>0.0</td>\n",
       "      <td>1.0</td>\n",
       "      <td>0.0</td>\n",
       "      <td>0.0</td>\n",
       "      <td>0.0</td>\n",
       "      <td>0.0</td>\n",
       "      <td>0.0</td>\n",
       "      <td>0.0</td>\n",
       "      <td>0.0</td>\n",
       "    </tr>\n",
       "    <tr>\n",
       "      <th>5</th>\n",
       "      <td>Realizar ampliación de mi negocio independiente</td>\n",
       "      <td>1.0</td>\n",
       "      <td>0.0</td>\n",
       "      <td>0.0</td>\n",
       "      <td>0.0</td>\n",
       "      <td>0.0</td>\n",
       "      <td>0.0</td>\n",
       "      <td>0.0</td>\n",
       "      <td>0.0</td>\n",
       "      <td>0.0</td>\n",
       "      <td>0.0</td>\n",
       "    </tr>\n",
       "    <tr>\n",
       "      <th>6</th>\n",
       "      <td>Para materias primas herramientas insumos y am...</td>\n",
       "      <td>0.0</td>\n",
       "      <td>0.0</td>\n",
       "      <td>0.0</td>\n",
       "      <td>0.0</td>\n",
       "      <td>1.0</td>\n",
       "      <td>0.0</td>\n",
       "      <td>0.0</td>\n",
       "      <td>0.0</td>\n",
       "      <td>0.0</td>\n",
       "      <td>0.0</td>\n",
       "    </tr>\n",
       "    <tr>\n",
       "      <th>7</th>\n",
       "      <td>Incrementar mi negocio comprando suministros y...</td>\n",
       "      <td>0.0</td>\n",
       "      <td>0.0</td>\n",
       "      <td>0.0</td>\n",
       "      <td>0.0</td>\n",
       "      <td>1.0</td>\n",
       "      <td>0.0</td>\n",
       "      <td>0.0</td>\n",
       "      <td>0.0</td>\n",
       "      <td>0.0</td>\n",
       "      <td>0.0</td>\n",
       "    </tr>\n",
       "    <tr>\n",
       "      <th>8</th>\n",
       "      <td>Invertir en equipo de computo y tecnologias de...</td>\n",
       "      <td>0.0</td>\n",
       "      <td>0.0</td>\n",
       "      <td>1.0</td>\n",
       "      <td>0.0</td>\n",
       "      <td>0.0</td>\n",
       "      <td>0.0</td>\n",
       "      <td>0.0</td>\n",
       "      <td>0.0</td>\n",
       "      <td>0.0</td>\n",
       "      <td>0.0</td>\n",
       "    </tr>\n",
       "    <tr>\n",
       "      <th>9</th>\n",
       "      <td>Inversion en productos y pago de facturas</td>\n",
       "      <td>0.0</td>\n",
       "      <td>1.0</td>\n",
       "      <td>0.0</td>\n",
       "      <td>0.0</td>\n",
       "      <td>0.0</td>\n",
       "      <td>0.0</td>\n",
       "      <td>0.0</td>\n",
       "      <td>0.0</td>\n",
       "      <td>0.0</td>\n",
       "      <td>0.0</td>\n",
       "    </tr>\n",
       "    <tr>\n",
       "      <th>10</th>\n",
       "      <td>Re invertir en materiales de manufacturacion</td>\n",
       "      <td>0.0</td>\n",
       "      <td>0.0</td>\n",
       "      <td>1.0</td>\n",
       "      <td>0.0</td>\n",
       "      <td>0.0</td>\n",
       "      <td>0.0</td>\n",
       "      <td>0.0</td>\n",
       "      <td>0.0</td>\n",
       "      <td>0.0</td>\n",
       "      <td>0.0</td>\n",
       "    </tr>\n",
       "    <tr>\n",
       "      <th>11</th>\n",
       "      <td>PAGAR CREDITOS CAROS E IMPUESTOS PENDIENTES</td>\n",
       "      <td>0.0</td>\n",
       "      <td>1.0</td>\n",
       "      <td>0.0</td>\n",
       "      <td>0.0</td>\n",
       "      <td>0.0</td>\n",
       "      <td>0.0</td>\n",
       "      <td>0.0</td>\n",
       "      <td>0.0</td>\n",
       "      <td>0.0</td>\n",
       "      <td>0.0</td>\n",
       "    </tr>\n",
       "    <tr>\n",
       "      <th>12</th>\n",
       "      <td>Expancion y remodelacion de mobiliario del neg...</td>\n",
       "      <td>0.0</td>\n",
       "      <td>0.0</td>\n",
       "      <td>0.0</td>\n",
       "      <td>0.0</td>\n",
       "      <td>0.0</td>\n",
       "      <td>0.0</td>\n",
       "      <td>0.0</td>\n",
       "      <td>1.0</td>\n",
       "      <td>0.0</td>\n",
       "      <td>0.0</td>\n",
       "    </tr>\n",
       "    <tr>\n",
       "      <th>13</th>\n",
       "      <td>Compra y diversificación de productos.El negoc...</td>\n",
       "      <td>0.0</td>\n",
       "      <td>0.0</td>\n",
       "      <td>0.0</td>\n",
       "      <td>0.0</td>\n",
       "      <td>1.0</td>\n",
       "      <td>0.0</td>\n",
       "      <td>0.0</td>\n",
       "      <td>0.0</td>\n",
       "      <td>0.0</td>\n",
       "      <td>0.0</td>\n",
       "    </tr>\n",
       "    <tr>\n",
       "      <th>14</th>\n",
       "      <td>Para inversión en las obras para poder entrar ...</td>\n",
       "      <td>0.0</td>\n",
       "      <td>0.0</td>\n",
       "      <td>1.0</td>\n",
       "      <td>0.0</td>\n",
       "      <td>0.0</td>\n",
       "      <td>0.0</td>\n",
       "      <td>0.0</td>\n",
       "      <td>0.0</td>\n",
       "      <td>0.0</td>\n",
       "      <td>0.0</td>\n",
       "    </tr>\n",
       "    <tr>\n",
       "      <th>15</th>\n",
       "      <td>inversion de crecimiento en papeleria y mejora...</td>\n",
       "      <td>1.0</td>\n",
       "      <td>0.0</td>\n",
       "      <td>0.0</td>\n",
       "      <td>0.0</td>\n",
       "      <td>0.0</td>\n",
       "      <td>0.0</td>\n",
       "      <td>0.0</td>\n",
       "      <td>0.0</td>\n",
       "      <td>0.0</td>\n",
       "      <td>0.0</td>\n",
       "    </tr>\n",
       "    <tr>\n",
       "      <th>16</th>\n",
       "      <td>PONDRÉ UN NEGOCIO DE UN CYBER Y SOPORTE TÉCNIC...</td>\n",
       "      <td>0.0</td>\n",
       "      <td>0.0</td>\n",
       "      <td>0.0</td>\n",
       "      <td>1.0</td>\n",
       "      <td>0.0</td>\n",
       "      <td>0.0</td>\n",
       "      <td>0.0</td>\n",
       "      <td>0.0</td>\n",
       "      <td>0.0</td>\n",
       "      <td>0.0</td>\n",
       "    </tr>\n",
       "    <tr>\n",
       "      <th>17</th>\n",
       "      <td>Para incrementar mercancia en inventario</td>\n",
       "      <td>0.0</td>\n",
       "      <td>0.0</td>\n",
       "      <td>0.0</td>\n",
       "      <td>0.0</td>\n",
       "      <td>1.0</td>\n",
       "      <td>0.0</td>\n",
       "      <td>0.0</td>\n",
       "      <td>0.0</td>\n",
       "      <td>0.0</td>\n",
       "      <td>0.0</td>\n",
       "    </tr>\n",
       "    <tr>\n",
       "      <th>18</th>\n",
       "      <td>Para expancion de productibidad y compra de ma...</td>\n",
       "      <td>0.0</td>\n",
       "      <td>0.0</td>\n",
       "      <td>1.0</td>\n",
       "      <td>0.0</td>\n",
       "      <td>0.0</td>\n",
       "      <td>0.0</td>\n",
       "      <td>0.0</td>\n",
       "      <td>0.0</td>\n",
       "      <td>0.0</td>\n",
       "      <td>0.0</td>\n",
       "    </tr>\n",
       "    <tr>\n",
       "      <th>19</th>\n",
       "      <td>INVERSIÓN EN EQUIPO DE TRABAJO Y CONSUMIBLES</td>\n",
       "      <td>0.0</td>\n",
       "      <td>0.0</td>\n",
       "      <td>1.0</td>\n",
       "      <td>0.0</td>\n",
       "      <td>0.0</td>\n",
       "      <td>0.0</td>\n",
       "      <td>0.0</td>\n",
       "      <td>0.0</td>\n",
       "      <td>0.0</td>\n",
       "      <td>0.0</td>\n",
       "    </tr>\n",
       "    <tr>\n",
       "      <th>20</th>\n",
       "      <td>PARA TENER LIQUIDEZ PARA COMPRA DE REFACCIONES</td>\n",
       "      <td>0.0</td>\n",
       "      <td>0.0</td>\n",
       "      <td>0.0</td>\n",
       "      <td>0.0</td>\n",
       "      <td>1.0</td>\n",
       "      <td>0.0</td>\n",
       "      <td>0.0</td>\n",
       "      <td>0.0</td>\n",
       "      <td>0.0</td>\n",
       "      <td>0.0</td>\n",
       "    </tr>\n",
       "    <tr>\n",
       "      <th>21</th>\n",
       "      <td>soy empleado federal del gobierno pero quiero ...</td>\n",
       "      <td>0.0</td>\n",
       "      <td>0.0</td>\n",
       "      <td>0.0</td>\n",
       "      <td>0.0</td>\n",
       "      <td>0.0</td>\n",
       "      <td>0.0</td>\n",
       "      <td>1.0</td>\n",
       "      <td>0.0</td>\n",
       "      <td>0.0</td>\n",
       "      <td>0.0</td>\n",
       "    </tr>\n",
       "    <tr>\n",
       "      <th>22</th>\n",
       "      <td>CAPITAL DE TRABAJO CRECIMIENTO DE LA EMPRESA Y...</td>\n",
       "      <td>NaN</td>\n",
       "      <td>NaN</td>\n",
       "      <td>NaN</td>\n",
       "      <td>NaN</td>\n",
       "      <td>NaN</td>\n",
       "      <td>NaN</td>\n",
       "      <td>NaN</td>\n",
       "      <td>NaN</td>\n",
       "      <td>NaN</td>\n",
       "      <td>NaN</td>\n",
       "    </tr>\n",
       "  </tbody>\n",
       "</table>\n",
       "</div>"
      ],
      "text/plain": [
       "                                              motivos  crec  cred  equ  inic  \\\n",
       "0                                  Capital de trabajo   0.0   0.0  0.0   0.0   \n",
       "1        Re invertir en materiales de manufacturacion   0.0   0.0  0.0   0.0   \n",
       "2   PARA COMPRAR MAS PRODUCTOS  ASI COMO REFRIGERA...   0.0   0.0  1.0   0.0   \n",
       "3      PARA COMPRA DE EQUIPO DE COMPUTO Y CONSUMIBLES   0.0   0.0  1.0   0.0   \n",
       "4   Inversión en desarrollo departamentos y compra...   0.0   0.0  1.0   0.0   \n",
       "5     Realizar ampliación de mi negocio independiente   1.0   0.0  0.0   0.0   \n",
       "6   Para materias primas herramientas insumos y am...   0.0   0.0  0.0   0.0   \n",
       "7   Incrementar mi negocio comprando suministros y...   0.0   0.0  0.0   0.0   \n",
       "8   Invertir en equipo de computo y tecnologias de...   0.0   0.0  1.0   0.0   \n",
       "9           Inversion en productos y pago de facturas   0.0   1.0  0.0   0.0   \n",
       "10       Re invertir en materiales de manufacturacion   0.0   0.0  1.0   0.0   \n",
       "11        PAGAR CREDITOS CAROS E IMPUESTOS PENDIENTES   0.0   1.0  0.0   0.0   \n",
       "12  Expancion y remodelacion de mobiliario del neg...   0.0   0.0  0.0   0.0   \n",
       "13  Compra y diversificación de productos.El negoc...   0.0   0.0  0.0   0.0   \n",
       "14  Para inversión en las obras para poder entrar ...   0.0   0.0  1.0   0.0   \n",
       "15  inversion de crecimiento en papeleria y mejora...   1.0   0.0  0.0   0.0   \n",
       "16  PONDRÉ UN NEGOCIO DE UN CYBER Y SOPORTE TÉCNIC...   0.0   0.0  0.0   1.0   \n",
       "17           Para incrementar mercancia en inventario   0.0   0.0  0.0   0.0   \n",
       "18  Para expancion de productibidad y compra de ma...   0.0   0.0  1.0   0.0   \n",
       "19       INVERSIÓN EN EQUIPO DE TRABAJO Y CONSUMIBLES   0.0   0.0  1.0   0.0   \n",
       "20     PARA TENER LIQUIDEZ PARA COMPRA DE REFACCIONES   0.0   0.0  0.0   0.0   \n",
       "21  soy empleado federal del gobierno pero quiero ...   0.0   0.0  0.0   0.0   \n",
       "22  CAPITAL DE TRABAJO CRECIMIENTO DE LA EMPRESA Y...   NaN   NaN  NaN   NaN   \n",
       "\n",
       "    inv  mkt   no  renta  sueldo  temp  \n",
       "0   0.0  0.0  0.0    1.0     0.0   0.0  \n",
       "1   1.0  0.0  0.0    0.0     0.0   0.0  \n",
       "2   1.0  0.0  0.0    0.0     0.0   0.0  \n",
       "3   0.0  0.0  0.0    0.0     0.0   0.0  \n",
       "4   0.0  0.0  0.0    0.0     0.0   0.0  \n",
       "5   0.0  0.0  0.0    0.0     0.0   0.0  \n",
       "6   1.0  0.0  0.0    0.0     0.0   0.0  \n",
       "7   1.0  0.0  0.0    0.0     0.0   0.0  \n",
       "8   0.0  0.0  0.0    0.0     0.0   0.0  \n",
       "9   0.0  0.0  0.0    0.0     0.0   0.0  \n",
       "10  0.0  0.0  0.0    0.0     0.0   0.0  \n",
       "11  0.0  0.0  0.0    0.0     0.0   0.0  \n",
       "12  0.0  0.0  0.0    1.0     0.0   0.0  \n",
       "13  1.0  0.0  0.0    0.0     0.0   0.0  \n",
       "14  0.0  0.0  0.0    0.0     0.0   0.0  \n",
       "15  0.0  0.0  0.0    0.0     0.0   0.0  \n",
       "16  0.0  0.0  0.0    0.0     0.0   0.0  \n",
       "17  1.0  0.0  0.0    0.0     0.0   0.0  \n",
       "18  0.0  0.0  0.0    0.0     0.0   0.0  \n",
       "19  0.0  0.0  0.0    0.0     0.0   0.0  \n",
       "20  1.0  0.0  0.0    0.0     0.0   0.0  \n",
       "21  0.0  0.0  1.0    0.0     0.0   0.0  \n",
       "22  NaN  NaN  NaN    NaN     NaN   NaN  "
      ]
     },
     "metadata": {},
     "output_type": "display_data"
    }
   ],
   "source": [
    "# We see that we have rows inside ths motivo, probably due to a bad query or something went wrong. We need to fix it.\n",
    "\n",
    "# The problematic row\n",
    "motivo_text = df.loc[1130]['motivos']\n",
    "\n",
    "# Split the text into lines\n",
    "lines = motivo_text.strip().split('\\n')\n",
    "\n",
    "# Define the target labels\n",
    "target_columns = ['crec', 'cred', 'equ', 'inic', 'inv', 'mkt', 'no', 'renta', 'sueldo', 'temp']\n",
    "\n",
    "# Prepare a list to store parsed data\n",
    "data = []\n",
    "\n",
    "# Parse each line, skipping the first motive and attaching it to the second row\n",
    "first_motivo_skipped = False\n",
    "for line in lines:\n",
    "    parts = line.split(',')\n",
    "    motivo = parts[0].strip()  # Extract the motivo text\n",
    "    values = list(map(int, parts[1:]))  # Convert the values to integers\n",
    "    data.append([motivo] + values)  # Combine motivo and values into a single list\n",
    "\n",
    "# Move the first motivo to the second row\n",
    "if len(data) > 1:\n",
    "    data[1][0] = data[0][0]  # Copy motivo from the first row to the second row\n",
    "    data.pop(0)  # Remove the first row\n",
    "\n",
    "# Create a new DataFrame with the parsed data\n",
    "parsed_df = pd.DataFrame(data, columns=['motivos'] + target_columns)\n",
    "\n",
    "\n",
    "# Display the resulting DataFrame\n",
    "display(parsed_df)"
   ]
  },
  {
   "cell_type": "code",
   "execution_count": 6,
   "metadata": {},
   "outputs": [],
   "source": [
    "# Delete the last row \n",
    "parsed_df = parsed_df.iloc[:-1]\n",
    "\n",
    "# Reset the index\n",
    "parsed_df.reset_index(drop=True, inplace=True)"
   ]
  },
  {
   "cell_type": "markdown",
   "metadata": {},
   "source": [
    "It appears that the descriptions of the \"motivos\" fit the assigned labels. Now, we must concatenate the dataframe with the main one."
   ]
  },
  {
   "cell_type": "code",
   "execution_count": 7,
   "metadata": {},
   "outputs": [],
   "source": [
    "df = pd.concat([df, parsed_df], axis=0)"
   ]
  },
  {
   "cell_type": "markdown",
   "metadata": {},
   "source": [
    "Now we lets fill with cero the rest of the nans, since they already have a category."
   ]
  },
  {
   "cell_type": "code",
   "execution_count": 8,
   "metadata": {},
   "outputs": [],
   "source": [
    "# Fill NaN values with 0 d\n",
    "df = df.fillna(0)"
   ]
  },
  {
   "cell_type": "markdown",
   "metadata": {},
   "source": [
    "## 3.2 Data type transformation."
   ]
  },
  {
   "cell_type": "code",
   "execution_count": 9,
   "metadata": {},
   "outputs": [
    {
     "name": "stdout",
     "output_type": "stream",
     "text": [
      "<class 'pandas.core.frame.DataFrame'>\n",
      "Index: 6701 entries, 0 to 21\n",
      "Data columns (total 11 columns):\n",
      " #   Column   Non-Null Count  Dtype  \n",
      "---  ------   --------------  -----  \n",
      " 0   motivos  6701 non-null   object \n",
      " 1   crec     6701 non-null   float64\n",
      " 2   cred     6701 non-null   float64\n",
      " 3   equ      6701 non-null   float64\n",
      " 4   inic     6701 non-null   float64\n",
      " 5   inv      6701 non-null   float64\n",
      " 6   mkt      6701 non-null   float64\n",
      " 7   no       6701 non-null   float64\n",
      " 8   renta    6701 non-null   float64\n",
      " 9   sueldo   6701 non-null   float64\n",
      " 10  temp     6701 non-null   float64\n",
      "dtypes: float64(10), object(1)\n",
      "memory usage: 628.2+ KB\n"
     ]
    }
   ],
   "source": [
    "df.info()"
   ]
  },
  {
   "cell_type": "markdown",
   "metadata": {},
   "source": [
    "We see that originaly all the categories where int, and now they are float, which is wrong. Lets convert them again into int."
   ]
  },
  {
   "cell_type": "code",
   "execution_count": 10,
   "metadata": {},
   "outputs": [
    {
     "name": "stdout",
     "output_type": "stream",
     "text": [
      "crec      int64\n",
      "cred      int64\n",
      "equ       int64\n",
      "inic      int64\n",
      "inv       int64\n",
      "mkt       int64\n",
      "no        int64\n",
      "renta     int64\n",
      "sueldo    int64\n",
      "temp      int64\n",
      "dtype: object\n"
     ]
    }
   ],
   "source": [
    "# Convert the target columns to int type\n",
    "df[target_columns] = df[target_columns].astype(int)\n",
    "\n",
    "# Display the DataFrame to confirm the changes\n",
    "print(df[target_columns].dtypes)"
   ]
  },
  {
   "cell_type": "markdown",
   "metadata": {},
   "source": [
    "## 3.3 Text Normalization"
   ]
  },
  {
   "cell_type": "code",
   "execution_count": 11,
   "metadata": {},
   "outputs": [],
   "source": [
    "# Text cleaning function\n",
    "def clean_text(text):\n",
    "    text = re.sub(r'[^a-zA-ZáéíóúÁÉÍÓÚñÑ\\s]', '', text)\n",
    "    text = text.lower()\n",
    "    text = ''.join(c for c in unicodedata.normalize('NFD', text) if unicodedata.category(c) != 'Mn')\n",
    "    text = ' '.join(text.split())\n",
    "    return text\n",
    "\n",
    "# Apply text cleaning\n",
    "df['cleaned_text'] = df['motivos'].apply(clean_text)"
   ]
  },
  {
   "cell_type": "markdown",
   "metadata": {},
   "source": [
    "Text Preprocessing\n",
    "\n",
    "1. Tokenization: Split the text into individual words or tokens.\n",
    "2. Remove stopwords: Eliminate common Spanish words that don't carry significant meaning for our classification task.\n",
    "3. Lemmatization: Reduce words to their base or dictionary form. This is particularly important for Spanish, which has rich verb conjugations and noun/adjective agreements."
   ]
  },
  {
   "cell_type": "code",
   "execution_count": 13,
   "metadata": {},
   "outputs": [],
   "source": [
    "# Load Spanish language model for spaCy\n",
    "nlp = spacy.load('es_core_news_sm')\n",
    "\n",
    "# Text preprocessing function\n",
    "def preprocess_text(text):\n",
    "    doc = nlp(text)\n",
    "    tokens = [token.lemma_ for token in doc if not token.is_stop and token.is_alpha]\n",
    "    return ' '.join(tokens)\n",
    "\n",
    "# Apply text preprocessing\n",
    "df['preprocessed_text'] = df['cleaned_text'].apply(preprocess_text)"
   ]
  },
  {
   "cell_type": "code",
   "execution_count": 14,
   "metadata": {},
   "outputs": [
    {
     "data": {
      "text/html": [
       "<div>\n",
       "<style scoped>\n",
       "    .dataframe tbody tr th:only-of-type {\n",
       "        vertical-align: middle;\n",
       "    }\n",
       "\n",
       "    .dataframe tbody tr th {\n",
       "        vertical-align: top;\n",
       "    }\n",
       "\n",
       "    .dataframe thead th {\n",
       "        text-align: right;\n",
       "    }\n",
       "</style>\n",
       "<table border=\"1\" class=\"dataframe\">\n",
       "  <thead>\n",
       "    <tr style=\"text-align: right;\">\n",
       "      <th></th>\n",
       "      <th>motivos</th>\n",
       "      <th>crec</th>\n",
       "      <th>cred</th>\n",
       "      <th>equ</th>\n",
       "      <th>inic</th>\n",
       "      <th>inv</th>\n",
       "      <th>mkt</th>\n",
       "      <th>no</th>\n",
       "      <th>renta</th>\n",
       "      <th>sueldo</th>\n",
       "      <th>temp</th>\n",
       "      <th>cleaned_text</th>\n",
       "      <th>preprocessed_text</th>\n",
       "    </tr>\n",
       "  </thead>\n",
       "  <tbody>\n",
       "    <tr>\n",
       "      <th>0</th>\n",
       "      <td>Crear un departamento de ventas e inversión a ...</td>\n",
       "      <td>0</td>\n",
       "      <td>0</td>\n",
       "      <td>0</td>\n",
       "      <td>0</td>\n",
       "      <td>0</td>\n",
       "      <td>1</td>\n",
       "      <td>0</td>\n",
       "      <td>0</td>\n",
       "      <td>0</td>\n",
       "      <td>0</td>\n",
       "      <td>crear un departamento de ventas e inversion a ...</td>\n",
       "      <td>crear departamento venta inversion publicidad</td>\n",
       "    </tr>\n",
       "    <tr>\n",
       "      <th>1</th>\n",
       "      <td>establecerme en un local y agregar materia pri...</td>\n",
       "      <td>0</td>\n",
       "      <td>0</td>\n",
       "      <td>0</td>\n",
       "      <td>0</td>\n",
       "      <td>1</td>\n",
       "      <td>0</td>\n",
       "      <td>0</td>\n",
       "      <td>1</td>\n",
       "      <td>0</td>\n",
       "      <td>0</td>\n",
       "      <td>establecerme en un local y agregar materia pri...</td>\n",
       "      <td>establecerme local agregar materia prima stock</td>\n",
       "    </tr>\n",
       "    <tr>\n",
       "      <th>2</th>\n",
       "      <td>Compra de equipo e incrementar inventario</td>\n",
       "      <td>0</td>\n",
       "      <td>0</td>\n",
       "      <td>1</td>\n",
       "      <td>0</td>\n",
       "      <td>1</td>\n",
       "      <td>0</td>\n",
       "      <td>0</td>\n",
       "      <td>0</td>\n",
       "      <td>0</td>\n",
       "      <td>0</td>\n",
       "      <td>compra de equipo e incrementar inventario</td>\n",
       "      <td>compra equipo incrementar inventario</td>\n",
       "    </tr>\n",
       "    <tr>\n",
       "      <th>3</th>\n",
       "      <td>Invertir en crecimiento de flotilla de unidade...</td>\n",
       "      <td>0</td>\n",
       "      <td>0</td>\n",
       "      <td>1</td>\n",
       "      <td>0</td>\n",
       "      <td>0</td>\n",
       "      <td>0</td>\n",
       "      <td>0</td>\n",
       "      <td>0</td>\n",
       "      <td>0</td>\n",
       "      <td>0</td>\n",
       "      <td>invertir en crecimiento de flotilla de unidade...</td>\n",
       "      <td>invertir crecimiento flotilla unidad carga seg...</td>\n",
       "    </tr>\n",
       "    <tr>\n",
       "      <th>4</th>\n",
       "      <td>Para comprar mercancía y comprar lonas nuevas</td>\n",
       "      <td>0</td>\n",
       "      <td>0</td>\n",
       "      <td>0</td>\n",
       "      <td>0</td>\n",
       "      <td>1</td>\n",
       "      <td>0</td>\n",
       "      <td>0</td>\n",
       "      <td>0</td>\n",
       "      <td>0</td>\n",
       "      <td>0</td>\n",
       "      <td>para comprar mercancia y comprar lonas nuevas</td>\n",
       "      <td>comprar mercancia comprar lona</td>\n",
       "    </tr>\n",
       "  </tbody>\n",
       "</table>\n",
       "</div>"
      ],
      "text/plain": [
       "                                             motivos  crec  cred  equ  inic  \\\n",
       "0  Crear un departamento de ventas e inversión a ...     0     0    0     0   \n",
       "1  establecerme en un local y agregar materia pri...     0     0    0     0   \n",
       "2          Compra de equipo e incrementar inventario     0     0    1     0   \n",
       "3  Invertir en crecimiento de flotilla de unidade...     0     0    1     0   \n",
       "4      Para comprar mercancía y comprar lonas nuevas     0     0    0     0   \n",
       "\n",
       "   inv  mkt  no  renta  sueldo  temp  \\\n",
       "0    0    1   0      0       0     0   \n",
       "1    1    0   0      1       0     0   \n",
       "2    1    0   0      0       0     0   \n",
       "3    0    0   0      0       0     0   \n",
       "4    1    0   0      0       0     0   \n",
       "\n",
       "                                        cleaned_text  \\\n",
       "0  crear un departamento de ventas e inversion a ...   \n",
       "1  establecerme en un local y agregar materia pri...   \n",
       "2          compra de equipo e incrementar inventario   \n",
       "3  invertir en crecimiento de flotilla de unidade...   \n",
       "4      para comprar mercancia y comprar lonas nuevas   \n",
       "\n",
       "                                   preprocessed_text  \n",
       "0      crear departamento venta inversion publicidad  \n",
       "1     establecerme local agregar materia prima stock  \n",
       "2               compra equipo incrementar inventario  \n",
       "3  invertir crecimiento flotilla unidad carga seg...  \n",
       "4                     comprar mercancia comprar lona  "
      ]
     },
     "execution_count": 14,
     "metadata": {},
     "output_type": "execute_result"
    }
   ],
   "source": [
    "df.head()"
   ]
  },
  {
   "cell_type": "markdown",
   "metadata": {},
   "source": [
    "We see that the new preprocessed text has all the verbs in the infinitive and the most important words. We will have to evaluate later how well the model performs with this preprocessing."
   ]
  },
  {
   "cell_type": "markdown",
   "metadata": {},
   "source": [
    "Automated Keyword Extraction\n",
    "\n",
    "This approach is going to use words frecuency and the TF-IDF scores, so for that we need to reate an automated key word extraction for each class.\n",
    "\n",
    "* TF-IDF (Term Frequency-Inverse Document Frequency): Calculate TF-IDF scores for all words in each class.\n",
    "* Select the top N words with the highest TF-IDF scores as keywords for each class.\n",
    "* TextRank Algorithm: Apply the TextRank algorithm to extract keywords from the text of each class."
   ]
  },
  {
   "cell_type": "code",
   "execution_count": 15,
   "metadata": {},
   "outputs": [],
   "source": [
    "# First, we create an automated keyword extraction process.\n",
    "def extract_keywords(df, class_columns, n_keywords=5):\n",
    "    keywords = defaultdict(list)\n",
    "    \n",
    "    for class_col in class_columns:\n",
    "        # Get text for this class\n",
    "        class_text = df[df[class_col] == 1]['motivos']\n",
    "        \n",
    "        # TF-IDF vectorization\n",
    "        # Create a custom stop wrods list in spanish\n",
    "        spanish_stop_words = [\"de\", \"la\", \"que\", \"el\", \"en\", \"y\", \"a\", \"los\", \"del\", \"se\", \"las\", \"por\", \"un\", \"para\", \"con\", \"no\", \"una\", \"su\", \"al\", \"lo\", \"como\", \"más\", \"pero\", \"sus\", \"le\", \"ya\", \"o\", \"este\", \"sí\", \"porque\", \"esta\", \"entre\", \"cuando\", \"muy\", \"sin\", \"sobre\", \"también\", \"me\", \"hasta\", \"hay\", \"donde\", \"quien\", \"desde\", \"todo\", \"nos\", \"durante\", \"todos\", \"uno\", \"les\", \"ni\", \"contra\", \"otros\", \"ese\", \"eso\", \"ante\", \"ellos\", \"e\", \"esto\", \"mí\", \"antes\", \"algunos\", \"qué\", \"unos\", \"yo\", \"otro\", \"otras\", \"otra\", \"él\", \"tanto\", \"esa\", \"estos\", \"mucho\", \"quienes\", \"nada\", \"muchos\", \"cual\", \"poco\", \"ella\", \"estar\", \"estas\", \"algunas\", \"algo\", \"nosotros\", \"mi\", \"mis\", \"tú\", \"te\", \"ti\", \"tu\", \"tus\", \"ellas\", \"nosotras\", \"vosotros\", \"vosotras\", \"os\", \"mío\", \"mía\", \"míos\", \"mías\", \"tuyo\", \"tuya\", \"tuyos\", \"tuyas\", \"suyo\", \"suya\", \"suyos\", \"suyas\", \"nuestro\", \"nuestra\", \"nuestros\", \"nuestras\", \"vuestro\", \"vuestra\", \"vuestros\", \"vuestras\"]\n",
    "        tfidf = TfidfVectorizer(stop_words=spanish_stop_words)\n",
    "\n",
    "        tfidf_matrix = tfidf.fit_transform(class_text)\n",
    "        \n",
    "        # Get feature names and their scores\n",
    "        feature_names = tfidf.get_feature_names_out()\n",
    "        tfidf_scores = tfidf_matrix.sum(axis=0).A1\n",
    "        \n",
    "        # Sort words by TF-IDF score and select top N\n",
    "        top_indices = tfidf_scores.argsort()[-n_keywords:][::-1]\n",
    "        keywords[class_col] = [feature_names[i] for i in top_indices]\n",
    "    \n",
    "    return keywords\n",
    "\n",
    "# Usage\n",
    "class_columns = ['crec', 'cred', 'equ', 'inic', 'inv', 'mkt', 'no', 'renta', 'sueldo', 'temp']\n",
    "auto_keywords = extract_keywords(df, class_columns)"
   ]
  },
  {
   "cell_type": "code",
   "execution_count": 16,
   "metadata": {},
   "outputs": [
    {
     "data": {
      "text/plain": [
       "defaultdict(list,\n",
       "            {'crec': ['negocio', 'capital', 'trabajo', 'sucursal', 'mas'],\n",
       "             'cred': ['pagar', 'deudas', 'pago', 'negocio', 'crédito'],\n",
       "             'equ': ['equipo', 'compra', 'trabajo', 'comprar', 'maquinaria'],\n",
       "             'inic': ['negocio', 'poner', 'proyecto', 'quiero', 'iniciar'],\n",
       "             'inv': ['compra', 'negocio', 'comprar', 'trabajo', 'capital'],\n",
       "             'mkt': ['publicidad', 'negocio', 'marketing', 'compra', 'equipo'],\n",
       "             'no': ['casa', 'pagar', 'gastos', 'necesito', 'comprar'],\n",
       "             'renta': ['mobiliario', 'compra', 'equipo', 'local', 'negocio'],\n",
       "             'sueldo': ['personal', 'pago', 'equipo', 'trabajo', 'capital'],\n",
       "             'temp': ['capital',\n",
       "              'trabajo',\n",
       "              'clientes',\n",
       "              'temporada',\n",
       "              'compra']})"
      ]
     },
     "execution_count": 16,
     "metadata": {},
     "output_type": "execute_result"
    }
   ],
   "source": [
    "auto_keywords"
   ]
  },
  {
   "cell_type": "markdown",
   "metadata": {},
   "source": [
    "Feature Engineering\n",
    "\n",
    "* Text length: Create a new feature representing the length of the original text, which might be indicative of certain classes.\n",
    "* Word count: Add a feature for the number of words in each text entry after preprocessing.\n",
    "* Presence of specific keywords: Create binary features for the presence of key terms related to each class (e.g., \"compra\" for 'inv', \"publicidad\" for 'mkt')."
   ]
  },
  {
   "cell_type": "code",
   "execution_count": 17,
   "metadata": {},
   "outputs": [
    {
     "data": {
      "text/html": [
       "<div>\n",
       "<style scoped>\n",
       "    .dataframe tbody tr th:only-of-type {\n",
       "        vertical-align: middle;\n",
       "    }\n",
       "\n",
       "    .dataframe tbody tr th {\n",
       "        vertical-align: top;\n",
       "    }\n",
       "\n",
       "    .dataframe thead th {\n",
       "        text-align: right;\n",
       "    }\n",
       "</style>\n",
       "<table border=\"1\" class=\"dataframe\">\n",
       "  <thead>\n",
       "    <tr style=\"text-align: right;\">\n",
       "      <th></th>\n",
       "      <th>motivos</th>\n",
       "      <th>crec</th>\n",
       "      <th>cred</th>\n",
       "      <th>equ</th>\n",
       "      <th>inic</th>\n",
       "      <th>inv</th>\n",
       "      <th>mkt</th>\n",
       "      <th>no</th>\n",
       "      <th>renta</th>\n",
       "      <th>sueldo</th>\n",
       "      <th>temp</th>\n",
       "      <th>cleaned_text</th>\n",
       "      <th>preprocessed_text</th>\n",
       "    </tr>\n",
       "  </thead>\n",
       "  <tbody>\n",
       "    <tr>\n",
       "      <th>0</th>\n",
       "      <td>Crear un departamento de ventas e inversión a ...</td>\n",
       "      <td>0</td>\n",
       "      <td>0</td>\n",
       "      <td>0</td>\n",
       "      <td>0</td>\n",
       "      <td>0</td>\n",
       "      <td>1</td>\n",
       "      <td>0</td>\n",
       "      <td>0</td>\n",
       "      <td>0</td>\n",
       "      <td>0</td>\n",
       "      <td>crear un departamento de ventas e inversion a ...</td>\n",
       "      <td>crear departamento venta inversion publicidad</td>\n",
       "    </tr>\n",
       "    <tr>\n",
       "      <th>1</th>\n",
       "      <td>establecerme en un local y agregar materia pri...</td>\n",
       "      <td>0</td>\n",
       "      <td>0</td>\n",
       "      <td>0</td>\n",
       "      <td>0</td>\n",
       "      <td>1</td>\n",
       "      <td>0</td>\n",
       "      <td>0</td>\n",
       "      <td>1</td>\n",
       "      <td>0</td>\n",
       "      <td>0</td>\n",
       "      <td>establecerme en un local y agregar materia pri...</td>\n",
       "      <td>establecerme local agregar materia prima stock</td>\n",
       "    </tr>\n",
       "    <tr>\n",
       "      <th>2</th>\n",
       "      <td>Compra de equipo e incrementar inventario</td>\n",
       "      <td>0</td>\n",
       "      <td>0</td>\n",
       "      <td>1</td>\n",
       "      <td>0</td>\n",
       "      <td>1</td>\n",
       "      <td>0</td>\n",
       "      <td>0</td>\n",
       "      <td>0</td>\n",
       "      <td>0</td>\n",
       "      <td>0</td>\n",
       "      <td>compra de equipo e incrementar inventario</td>\n",
       "      <td>compra equipo incrementar inventario</td>\n",
       "    </tr>\n",
       "    <tr>\n",
       "      <th>3</th>\n",
       "      <td>Invertir en crecimiento de flotilla de unidade...</td>\n",
       "      <td>0</td>\n",
       "      <td>0</td>\n",
       "      <td>1</td>\n",
       "      <td>0</td>\n",
       "      <td>0</td>\n",
       "      <td>0</td>\n",
       "      <td>0</td>\n",
       "      <td>0</td>\n",
       "      <td>0</td>\n",
       "      <td>0</td>\n",
       "      <td>invertir en crecimiento de flotilla de unidade...</td>\n",
       "      <td>invertir crecimiento flotilla unidad carga seg...</td>\n",
       "    </tr>\n",
       "    <tr>\n",
       "      <th>4</th>\n",
       "      <td>Para comprar mercancía y comprar lonas nuevas</td>\n",
       "      <td>0</td>\n",
       "      <td>0</td>\n",
       "      <td>0</td>\n",
       "      <td>0</td>\n",
       "      <td>1</td>\n",
       "      <td>0</td>\n",
       "      <td>0</td>\n",
       "      <td>0</td>\n",
       "      <td>0</td>\n",
       "      <td>0</td>\n",
       "      <td>para comprar mercancia y comprar lonas nuevas</td>\n",
       "      <td>comprar mercancia comprar lona</td>\n",
       "    </tr>\n",
       "    <tr>\n",
       "      <th>...</th>\n",
       "      <td>...</td>\n",
       "      <td>...</td>\n",
       "      <td>...</td>\n",
       "      <td>...</td>\n",
       "      <td>...</td>\n",
       "      <td>...</td>\n",
       "      <td>...</td>\n",
       "      <td>...</td>\n",
       "      <td>...</td>\n",
       "      <td>...</td>\n",
       "      <td>...</td>\n",
       "      <td>...</td>\n",
       "      <td>...</td>\n",
       "    </tr>\n",
       "    <tr>\n",
       "      <th>17</th>\n",
       "      <td>Para incrementar mercancia en inventario</td>\n",
       "      <td>0</td>\n",
       "      <td>0</td>\n",
       "      <td>0</td>\n",
       "      <td>0</td>\n",
       "      <td>1</td>\n",
       "      <td>0</td>\n",
       "      <td>0</td>\n",
       "      <td>0</td>\n",
       "      <td>0</td>\n",
       "      <td>0</td>\n",
       "      <td>para incrementar mercancia en inventario</td>\n",
       "      <td>incrementar mercancia inventario</td>\n",
       "    </tr>\n",
       "    <tr>\n",
       "      <th>18</th>\n",
       "      <td>Para expancion de productibidad y compra de ma...</td>\n",
       "      <td>0</td>\n",
       "      <td>0</td>\n",
       "      <td>1</td>\n",
       "      <td>0</td>\n",
       "      <td>0</td>\n",
       "      <td>0</td>\n",
       "      <td>0</td>\n",
       "      <td>0</td>\n",
       "      <td>0</td>\n",
       "      <td>0</td>\n",
       "      <td>para expancion de productibidad y compra de ma...</td>\n",
       "      <td>expancion productibidad compra makinaria contr...</td>\n",
       "    </tr>\n",
       "    <tr>\n",
       "      <th>19</th>\n",
       "      <td>INVERSIÓN EN EQUIPO DE TRABAJO Y CONSUMIBLES</td>\n",
       "      <td>0</td>\n",
       "      <td>0</td>\n",
       "      <td>1</td>\n",
       "      <td>0</td>\n",
       "      <td>0</td>\n",
       "      <td>0</td>\n",
       "      <td>0</td>\n",
       "      <td>0</td>\n",
       "      <td>0</td>\n",
       "      <td>0</td>\n",
       "      <td>inversion en equipo de trabajo y consumibles</td>\n",
       "      <td>inversion equipo trabajo consumibl</td>\n",
       "    </tr>\n",
       "    <tr>\n",
       "      <th>20</th>\n",
       "      <td>PARA TENER LIQUIDEZ PARA COMPRA DE REFACCIONES</td>\n",
       "      <td>0</td>\n",
       "      <td>0</td>\n",
       "      <td>0</td>\n",
       "      <td>0</td>\n",
       "      <td>1</td>\n",
       "      <td>0</td>\n",
       "      <td>0</td>\n",
       "      <td>0</td>\n",
       "      <td>0</td>\n",
       "      <td>0</td>\n",
       "      <td>para tener liquidez para compra de refacciones</td>\n",
       "      <td>liquidez compra refacción</td>\n",
       "    </tr>\n",
       "    <tr>\n",
       "      <th>21</th>\n",
       "      <td>soy empleado federal del gobierno pero quiero ...</td>\n",
       "      <td>0</td>\n",
       "      <td>0</td>\n",
       "      <td>0</td>\n",
       "      <td>0</td>\n",
       "      <td>0</td>\n",
       "      <td>0</td>\n",
       "      <td>1</td>\n",
       "      <td>0</td>\n",
       "      <td>0</td>\n",
       "      <td>0</td>\n",
       "      <td>soy empleado federal del gobierno pero quiero ...</td>\n",
       "      <td>emplear federal gobierno querer invertir proye...</td>\n",
       "    </tr>\n",
       "  </tbody>\n",
       "</table>\n",
       "<p>6701 rows × 13 columns</p>\n",
       "</div>"
      ],
      "text/plain": [
       "                                              motivos  crec  cred  equ  inic  \\\n",
       "0   Crear un departamento de ventas e inversión a ...     0     0    0     0   \n",
       "1   establecerme en un local y agregar materia pri...     0     0    0     0   \n",
       "2           Compra de equipo e incrementar inventario     0     0    1     0   \n",
       "3   Invertir en crecimiento de flotilla de unidade...     0     0    1     0   \n",
       "4       Para comprar mercancía y comprar lonas nuevas     0     0    0     0   \n",
       "..                                                ...   ...   ...  ...   ...   \n",
       "17           Para incrementar mercancia en inventario     0     0    0     0   \n",
       "18  Para expancion de productibidad y compra de ma...     0     0    1     0   \n",
       "19       INVERSIÓN EN EQUIPO DE TRABAJO Y CONSUMIBLES     0     0    1     0   \n",
       "20     PARA TENER LIQUIDEZ PARA COMPRA DE REFACCIONES     0     0    0     0   \n",
       "21  soy empleado federal del gobierno pero quiero ...     0     0    0     0   \n",
       "\n",
       "    inv  mkt  no  renta  sueldo  temp  \\\n",
       "0     0    1   0      0       0     0   \n",
       "1     1    0   0      1       0     0   \n",
       "2     1    0   0      0       0     0   \n",
       "3     0    0   0      0       0     0   \n",
       "4     1    0   0      0       0     0   \n",
       "..  ...  ...  ..    ...     ...   ...   \n",
       "17    1    0   0      0       0     0   \n",
       "18    0    0   0      0       0     0   \n",
       "19    0    0   0      0       0     0   \n",
       "20    1    0   0      0       0     0   \n",
       "21    0    0   1      0       0     0   \n",
       "\n",
       "                                         cleaned_text  \\\n",
       "0   crear un departamento de ventas e inversion a ...   \n",
       "1   establecerme en un local y agregar materia pri...   \n",
       "2           compra de equipo e incrementar inventario   \n",
       "3   invertir en crecimiento de flotilla de unidade...   \n",
       "4       para comprar mercancia y comprar lonas nuevas   \n",
       "..                                                ...   \n",
       "17           para incrementar mercancia en inventario   \n",
       "18  para expancion de productibidad y compra de ma...   \n",
       "19       inversion en equipo de trabajo y consumibles   \n",
       "20     para tener liquidez para compra de refacciones   \n",
       "21  soy empleado federal del gobierno pero quiero ...   \n",
       "\n",
       "                                    preprocessed_text  \n",
       "0       crear departamento venta inversion publicidad  \n",
       "1      establecerme local agregar materia prima stock  \n",
       "2                compra equipo incrementar inventario  \n",
       "3   invertir crecimiento flotilla unidad carga seg...  \n",
       "4                      comprar mercancia comprar lona  \n",
       "..                                                ...  \n",
       "17                   incrementar mercancia inventario  \n",
       "18  expancion productibidad compra makinaria contr...  \n",
       "19                 inversion equipo trabajo consumibl  \n",
       "20                          liquidez compra refacción  \n",
       "21  emplear federal gobierno querer invertir proye...  \n",
       "\n",
       "[6701 rows x 13 columns]"
      ]
     },
     "execution_count": 17,
     "metadata": {},
     "output_type": "execute_result"
    }
   ],
   "source": [
    "df"
   ]
  },
  {
   "cell_type": "code",
   "execution_count": 18,
   "metadata": {},
   "outputs": [],
   "source": [
    "# Feature engineering\n",
    "df['text_length'] = df['motivos'].str.len()\n",
    "df['word_count'] = df['preprocessed_text'].str.split().str.len()\n",
    "\n",
    "# If some of the words are in the keywords and apply to the characteristic, then mark it as 1.\n",
    "for label, words in auto_keywords.items():\n",
    "    df[f'{label}_keywords'] = df['preprocessed_text'].apply(lambda x: any(word in x for word in words)).astype(int)"
   ]
  },
  {
   "cell_type": "code",
   "execution_count": 19,
   "metadata": {},
   "outputs": [
    {
     "data": {
      "text/plain": [
       "Index(['motivos', 'crec', 'cred', 'equ', 'inic', 'inv', 'mkt', 'no', 'renta',\n",
       "       'sueldo', 'temp', 'cleaned_text', 'preprocessed_text', 'text_length',\n",
       "       'word_count', 'crec_keywords', 'cred_keywords', 'equ_keywords',\n",
       "       'inic_keywords', 'inv_keywords', 'mkt_keywords', 'no_keywords',\n",
       "       'renta_keywords', 'sueldo_keywords', 'temp_keywords'],\n",
       "      dtype='object')"
      ]
     },
     "execution_count": 19,
     "metadata": {},
     "output_type": "execute_result"
    }
   ],
   "source": [
    "df.columns"
   ]
  },
  {
   "cell_type": "markdown",
   "metadata": {},
   "source": [
    "We see 10 new features, since all have at least one key word that represent that class.\n",
    "\n",
    "['crec_keywords', 'cred_keywords', 'equ_keywords','inic_keywords', 'inv_keywords', 'mkt_keywords', 'no_keywords','renta_keywords', 'sueldo_keywords', 'temp_keywords']\n"
   ]
  },
  {
   "cell_type": "code",
   "execution_count": null,
   "metadata": {},
   "outputs": [],
   "source": [
    "# Assing the y labels.\n",
    "y = df[target_columns].values\n",
    "\n",
    "# TF-IDF Vectorization\n",
    "tfidf = TfidfVectorizer(max_features=5000)\n",
    "X_tfidf = tfidf.fit_transform(df['preprocessed_text'])\n",
    "\n",
    "# Combine TF-IDF features with engineered features\n",
    "X_extra = df[['text_length', 'word_count', 'crec_keywords', 'cred_keywords', 'equ_keywords','inic_keywords', 'inv_keywords', 'mkt_keywords', 'no_keywords','renta_keywords', 'sueldo_keywords', 'temp_keywords']]\n",
    "X = np.hstack((X_tfidf.toarray(), X_extra))"
   ]
  },
  {
   "cell_type": "code",
   "execution_count": 26,
   "metadata": {},
   "outputs": [
    {
     "data": {
      "text/plain": [
       "array([[0, 0, 0, ..., 0, 0, 0],\n",
       "       [0, 0, 0, ..., 1, 0, 0],\n",
       "       [0, 0, 1, ..., 0, 0, 0],\n",
       "       ...,\n",
       "       [0, 0, 1, ..., 0, 0, 0],\n",
       "       [0, 0, 0, ..., 0, 0, 0],\n",
       "       [0, 0, 0, ..., 0, 0, 0]])"
      ]
     },
     "execution_count": 26,
     "metadata": {},
     "output_type": "execute_result"
    }
   ],
   "source": [
    "y"
   ]
  },
  {
   "cell_type": "code",
   "execution_count": 27,
   "metadata": {},
   "outputs": [],
   "source": [
    "from sklearn.model_selection import train_test_split\n",
    "\n",
    "def split_data(X, y, test_size=0.2, val_size=0.2, random_state=42):\n",
    "    # First, split into train+val and test sets\n",
    "    X_train_val, X_test, y_train_val, y_test = train_test_split(\n",
    "        X, y, test_size=test_size, random_state=random_state\n",
    "    )\n",
    "    \n",
    "    # Then split the train+val set into train and validation sets\n",
    "    val_size_adjusted = val_size / (1 - test_size)\n",
    "    X_train, X_val, y_train, y_val = train_test_split(\n",
    "        X_train_val, y_train_val, test_size=val_size_adjusted, random_state=random_state\n",
    "    )\n",
    "    \n",
    "    return X_train, X_val, X_test, y_train, y_val, y_test\n",
    "\n",
    "# Usage\n",
    "X_train, X_val, X_test, y_train, y_val, y_test = split_data(X, y)"
   ]
  },
  {
   "cell_type": "code",
   "execution_count": 28,
   "metadata": {},
   "outputs": [
    {
     "name": "stdout",
     "output_type": "stream",
     "text": [
      "The shape of the data is:\n",
      "X_train:(4020, 5012) - y_train: (4020, 10)\n",
      "X_test:(1341, 5012) - y_test: (1341, 10)\n",
      "X_valid:(1340, 5012) - y_valid: (1340, 10)\n"
     ]
    }
   ],
   "source": [
    "print(f\"The shape of the data is:\\nX_train:{X_train.shape} - y_train: {y_train.shape}\\nX_test:{X_test.shape} - y_test: {y_test.shape}\\nX_valid:{X_val.shape} - y_valid: {y_val.shape}\")"
   ]
  },
  {
   "cell_type": "markdown",
   "metadata": {},
   "source": [
    "# 4. Modeling:\n",
    "In this phase, various modeling techniques and algorithms are selected and applied to the dataset, and their parameters are calibrated to optimal values."
   ]
  },
  {
   "cell_type": "code",
   "execution_count": 46,
   "metadata": {},
   "outputs": [],
   "source": [
    "import numpy as np\n",
    "from tensorflow.keras.models import Sequential\n",
    "from tensorflow.keras.layers import Dense, Dropout, Input\n",
    "from tensorflow.keras.optimizers import Adam"
   ]
  },
  {
   "cell_type": "markdown",
   "metadata": {},
   "source": [
    "Define the Model:\n",
    "We'll use a simple feedforward neural network with dropout layers to prevent overfitting. The output layer will have 8 units with a sigmoid activation function to handle multilabel outputs."
   ]
  },
  {
   "cell_type": "markdown",
   "metadata": {},
   "source": [
    "## 4.1 Model creation"
   ]
  },
  {
   "cell_type": "code",
   "execution_count": 51,
   "metadata": {},
   "outputs": [],
   "source": [
    "def create_model(input_dim):\n",
    "    model = Sequential()\n",
    "    model.add(Dense(256, input_dim=input_dim, activation='relu'))\n",
    "    model.add(Dropout(0.5))\n",
    "    model.add(Dense(64, activation='relu'))\n",
    "    model.add(Dropout(0.5))\n",
    "    model.add(Dense(32, activation='relu'))\n",
    "    model.add(Dense(10, activation='sigmoid'))  # 10 output units for multilabel classification\n",
    "    return model\n",
    "\n",
    "model = create_model(input_dim=5012)"
   ]
  },
  {
   "cell_type": "code",
   "execution_count": 53,
   "metadata": {},
   "outputs": [
    {
     "data": {
      "text/html": [
       "<pre style=\"white-space:pre;overflow-x:auto;line-height:normal;font-family:Menlo,'DejaVu Sans Mono',consolas,'Courier New',monospace\"><span style=\"font-weight: bold\">Model: \"sequential_5\"</span>\n",
       "</pre>\n"
      ],
      "text/plain": [
       "\u001b[1mModel: \"sequential_5\"\u001b[0m\n"
      ]
     },
     "metadata": {},
     "output_type": "display_data"
    },
    {
     "data": {
      "text/html": [
       "<pre style=\"white-space:pre;overflow-x:auto;line-height:normal;font-family:Menlo,'DejaVu Sans Mono',consolas,'Courier New',monospace\">┏━━━━━━━━━━━━━━━━━━━━━━━━━━━━━━━━━┳━━━━━━━━━━━━━━━━━━━━━━━━┳━━━━━━━━━━━━━━━┓\n",
       "┃<span style=\"font-weight: bold\"> Layer (type)                    </span>┃<span style=\"font-weight: bold\"> Output Shape           </span>┃<span style=\"font-weight: bold\">       Param # </span>┃\n",
       "┡━━━━━━━━━━━━━━━━━━━━━━━━━━━━━━━━━╇━━━━━━━━━━━━━━━━━━━━━━━━╇━━━━━━━━━━━━━━━┩\n",
       "│ dense_16 (<span style=\"color: #0087ff; text-decoration-color: #0087ff\">Dense</span>)                │ (<span style=\"color: #00d7ff; text-decoration-color: #00d7ff\">None</span>, <span style=\"color: #00af00; text-decoration-color: #00af00\">256</span>)            │     <span style=\"color: #00af00; text-decoration-color: #00af00\">1,283,328</span> │\n",
       "├─────────────────────────────────┼────────────────────────┼───────────────┤\n",
       "│ dropout_8 (<span style=\"color: #0087ff; text-decoration-color: #0087ff\">Dropout</span>)             │ (<span style=\"color: #00d7ff; text-decoration-color: #00d7ff\">None</span>, <span style=\"color: #00af00; text-decoration-color: #00af00\">256</span>)            │             <span style=\"color: #00af00; text-decoration-color: #00af00\">0</span> │\n",
       "├─────────────────────────────────┼────────────────────────┼───────────────┤\n",
       "│ dense_17 (<span style=\"color: #0087ff; text-decoration-color: #0087ff\">Dense</span>)                │ (<span style=\"color: #00d7ff; text-decoration-color: #00d7ff\">None</span>, <span style=\"color: #00af00; text-decoration-color: #00af00\">64</span>)             │        <span style=\"color: #00af00; text-decoration-color: #00af00\">16,448</span> │\n",
       "├─────────────────────────────────┼────────────────────────┼───────────────┤\n",
       "│ dropout_9 (<span style=\"color: #0087ff; text-decoration-color: #0087ff\">Dropout</span>)             │ (<span style=\"color: #00d7ff; text-decoration-color: #00d7ff\">None</span>, <span style=\"color: #00af00; text-decoration-color: #00af00\">64</span>)             │             <span style=\"color: #00af00; text-decoration-color: #00af00\">0</span> │\n",
       "├─────────────────────────────────┼────────────────────────┼───────────────┤\n",
       "│ dense_18 (<span style=\"color: #0087ff; text-decoration-color: #0087ff\">Dense</span>)                │ (<span style=\"color: #00d7ff; text-decoration-color: #00d7ff\">None</span>, <span style=\"color: #00af00; text-decoration-color: #00af00\">32</span>)             │         <span style=\"color: #00af00; text-decoration-color: #00af00\">2,080</span> │\n",
       "├─────────────────────────────────┼────────────────────────┼───────────────┤\n",
       "│ dense_19 (<span style=\"color: #0087ff; text-decoration-color: #0087ff\">Dense</span>)                │ (<span style=\"color: #00d7ff; text-decoration-color: #00d7ff\">None</span>, <span style=\"color: #00af00; text-decoration-color: #00af00\">10</span>)             │           <span style=\"color: #00af00; text-decoration-color: #00af00\">330</span> │\n",
       "└─────────────────────────────────┴────────────────────────┴───────────────┘\n",
       "</pre>\n"
      ],
      "text/plain": [
       "┏━━━━━━━━━━━━━━━━━━━━━━━━━━━━━━━━━┳━━━━━━━━━━━━━━━━━━━━━━━━┳━━━━━━━━━━━━━━━┓\n",
       "┃\u001b[1m \u001b[0m\u001b[1mLayer (type)                   \u001b[0m\u001b[1m \u001b[0m┃\u001b[1m \u001b[0m\u001b[1mOutput Shape          \u001b[0m\u001b[1m \u001b[0m┃\u001b[1m \u001b[0m\u001b[1m      Param #\u001b[0m\u001b[1m \u001b[0m┃\n",
       "┡━━━━━━━━━━━━━━━━━━━━━━━━━━━━━━━━━╇━━━━━━━━━━━━━━━━━━━━━━━━╇━━━━━━━━━━━━━━━┩\n",
       "│ dense_16 (\u001b[38;5;33mDense\u001b[0m)                │ (\u001b[38;5;45mNone\u001b[0m, \u001b[38;5;34m256\u001b[0m)            │     \u001b[38;5;34m1,283,328\u001b[0m │\n",
       "├─────────────────────────────────┼────────────────────────┼───────────────┤\n",
       "│ dropout_8 (\u001b[38;5;33mDropout\u001b[0m)             │ (\u001b[38;5;45mNone\u001b[0m, \u001b[38;5;34m256\u001b[0m)            │             \u001b[38;5;34m0\u001b[0m │\n",
       "├─────────────────────────────────┼────────────────────────┼───────────────┤\n",
       "│ dense_17 (\u001b[38;5;33mDense\u001b[0m)                │ (\u001b[38;5;45mNone\u001b[0m, \u001b[38;5;34m64\u001b[0m)             │        \u001b[38;5;34m16,448\u001b[0m │\n",
       "├─────────────────────────────────┼────────────────────────┼───────────────┤\n",
       "│ dropout_9 (\u001b[38;5;33mDropout\u001b[0m)             │ (\u001b[38;5;45mNone\u001b[0m, \u001b[38;5;34m64\u001b[0m)             │             \u001b[38;5;34m0\u001b[0m │\n",
       "├─────────────────────────────────┼────────────────────────┼───────────────┤\n",
       "│ dense_18 (\u001b[38;5;33mDense\u001b[0m)                │ (\u001b[38;5;45mNone\u001b[0m, \u001b[38;5;34m32\u001b[0m)             │         \u001b[38;5;34m2,080\u001b[0m │\n",
       "├─────────────────────────────────┼────────────────────────┼───────────────┤\n",
       "│ dense_19 (\u001b[38;5;33mDense\u001b[0m)                │ (\u001b[38;5;45mNone\u001b[0m, \u001b[38;5;34m10\u001b[0m)             │           \u001b[38;5;34m330\u001b[0m │\n",
       "└─────────────────────────────────┴────────────────────────┴───────────────┘\n"
      ]
     },
     "metadata": {},
     "output_type": "display_data"
    },
    {
     "data": {
      "text/html": [
       "<pre style=\"white-space:pre;overflow-x:auto;line-height:normal;font-family:Menlo,'DejaVu Sans Mono',consolas,'Courier New',monospace\"><span style=\"font-weight: bold\"> Total params: </span><span style=\"color: #00af00; text-decoration-color: #00af00\">1,302,186</span> (4.97 MB)\n",
       "</pre>\n"
      ],
      "text/plain": [
       "\u001b[1m Total params: \u001b[0m\u001b[38;5;34m1,302,186\u001b[0m (4.97 MB)\n"
      ]
     },
     "metadata": {},
     "output_type": "display_data"
    },
    {
     "data": {
      "text/html": [
       "<pre style=\"white-space:pre;overflow-x:auto;line-height:normal;font-family:Menlo,'DejaVu Sans Mono',consolas,'Courier New',monospace\"><span style=\"font-weight: bold\"> Trainable params: </span><span style=\"color: #00af00; text-decoration-color: #00af00\">1,302,186</span> (4.97 MB)\n",
       "</pre>\n"
      ],
      "text/plain": [
       "\u001b[1m Trainable params: \u001b[0m\u001b[38;5;34m1,302,186\u001b[0m (4.97 MB)\n"
      ]
     },
     "metadata": {},
     "output_type": "display_data"
    },
    {
     "data": {
      "text/html": [
       "<pre style=\"white-space:pre;overflow-x:auto;line-height:normal;font-family:Menlo,'DejaVu Sans Mono',consolas,'Courier New',monospace\"><span style=\"font-weight: bold\"> Non-trainable params: </span><span style=\"color: #00af00; text-decoration-color: #00af00\">0</span> (0.00 B)\n",
       "</pre>\n"
      ],
      "text/plain": [
       "\u001b[1m Non-trainable params: \u001b[0m\u001b[38;5;34m0\u001b[0m (0.00 B)\n"
      ]
     },
     "metadata": {},
     "output_type": "display_data"
    }
   ],
   "source": [
    "model.summary()"
   ]
  },
  {
   "cell_type": "code",
   "execution_count": 54,
   "metadata": {},
   "outputs": [],
   "source": [
    "model.compile(optimizer=Adam(learning_rate=0.001), \n",
    "              loss='binary_crossentropy', \n",
    "              metrics=['accuracy'])"
   ]
  },
  {
   "cell_type": "markdown",
   "metadata": {},
   "source": [
    "## 4.2 Model Training"
   ]
  },
  {
   "cell_type": "code",
   "execution_count": 60,
   "metadata": {},
   "outputs": [],
   "source": [
    "import numpy as np\n",
    "from tensorflow.keras.models import Sequential\n",
    "from tensorflow.keras.layers import Dense, Dropout\n",
    "from tensorflow.keras.optimizers import Adam\n",
    "from tensorflow.keras.callbacks import EarlyStopping"
   ]
  },
  {
   "cell_type": "code",
   "execution_count": 61,
   "metadata": {},
   "outputs": [
    {
     "name": "stdout",
     "output_type": "stream",
     "text": [
      "Epoch 1/1000\n",
      "\u001b[1m  1/126\u001b[0m \u001b[37m━━━━━━━━━━━━━━━━━━━━\u001b[0m \u001b[1m2s\u001b[0m 20ms/step - accuracy: 0.9375 - loss: 0.0201"
     ]
    },
    {
     "name": "stdout",
     "output_type": "stream",
     "text": [
      "\u001b[1m 32/126\u001b[0m \u001b[32m━━━━━\u001b[0m\u001b[37m━━━━━━━━━━━━━━━\u001b[0m \u001b[1m0s\u001b[0m 5ms/step - accuracy: 0.9138 - loss: 0.0330"
     ]
    },
    {
     "name": "stderr",
     "output_type": "stream",
     "text": [
      "2024-11-30 03:10:19.963661: W external/local_xla/xla/tsl/framework/cpu_allocator_impl.cc:83] Allocation of 80592960 exceeds 10% of free system memory.\n"
     ]
    },
    {
     "name": "stdout",
     "output_type": "stream",
     "text": [
      "\u001b[1m126/126\u001b[0m \u001b[32m━━━━━━━━━━━━━━━━━━━━\u001b[0m\u001b[37m\u001b[0m \u001b[1m1s\u001b[0m 6ms/step - accuracy: 0.9063 - loss: 0.0338 - val_accuracy: 0.6127 - val_loss: 0.4656\n",
      "Epoch 2/1000\n",
      "\u001b[1m126/126\u001b[0m \u001b[32m━━━━━━━━━━━━━━━━━━━━\u001b[0m\u001b[37m\u001b[0m \u001b[1m1s\u001b[0m 6ms/step - accuracy: 0.8946 - loss: 0.0397 - val_accuracy: 0.6075 - val_loss: 0.4585\n",
      "Epoch 3/1000\n",
      "\u001b[1m126/126\u001b[0m \u001b[32m━━━━━━━━━━━━━━━━━━━━\u001b[0m\u001b[37m\u001b[0m \u001b[1m1s\u001b[0m 6ms/step - accuracy: 0.8950 - loss: 0.0327 - val_accuracy: 0.6119 - val_loss: 0.4158\n",
      "Epoch 4/1000\n",
      "\u001b[1m126/126\u001b[0m \u001b[32m━━━━━━━━━━━━━━━━━━━━\u001b[0m\u001b[37m\u001b[0m \u001b[1m1s\u001b[0m 6ms/step - accuracy: 0.8820 - loss: 0.0469 - val_accuracy: 0.6030 - val_loss: 0.4500\n",
      "Epoch 5/1000\n",
      "\u001b[1m126/126\u001b[0m \u001b[32m━━━━━━━━━━━━━━━━━━━━\u001b[0m\u001b[37m\u001b[0m \u001b[1m1s\u001b[0m 6ms/step - accuracy: 0.9110 - loss: 0.0297 - val_accuracy: 0.6119 - val_loss: 0.4634\n",
      "Epoch 6/1000\n",
      "\u001b[1m126/126\u001b[0m \u001b[32m━━━━━━━━━━━━━━━━━━━━\u001b[0m\u001b[37m\u001b[0m \u001b[1m1s\u001b[0m 6ms/step - accuracy: 0.8969 - loss: 0.0394 - val_accuracy: 0.6052 - val_loss: 0.4608\n",
      "Epoch 7/1000\n",
      "\u001b[1m126/126\u001b[0m \u001b[32m━━━━━━━━━━━━━━━━━━━━\u001b[0m\u001b[37m\u001b[0m \u001b[1m1s\u001b[0m 6ms/step - accuracy: 0.9055 - loss: 0.0369 - val_accuracy: 0.6127 - val_loss: 0.4535\n",
      "Epoch 8/1000\n",
      "\u001b[1m126/126\u001b[0m \u001b[32m━━━━━━━━━━━━━━━━━━━━\u001b[0m\u001b[37m\u001b[0m \u001b[1m1s\u001b[0m 6ms/step - accuracy: 0.8887 - loss: 0.0396 - val_accuracy: 0.6209 - val_loss: 0.4705\n"
     ]
    }
   ],
   "source": [
    "# Early stopping to prevent overfitting\n",
    "early_stopping = EarlyStopping(monitor='val_loss', patience=5)\n",
    "\n",
    "history = model.fit(X_train, y_train, \n",
    "                    epochs=1000, \n",
    "                    batch_size=32, \n",
    "                    validation_data=(X_val, y_val),\n",
    "                    callbacks=[early_stopping])"
   ]
  },
  {
   "cell_type": "code",
   "execution_count": 62,
   "metadata": {},
   "outputs": [
    {
     "name": "stdout",
     "output_type": "stream",
     "text": [
      "\u001b[1m42/42\u001b[0m \u001b[32m━━━━━━━━━━━━━━━━━━━━\u001b[0m\u001b[37m\u001b[0m \u001b[1m0s\u001b[0m 2ms/step - accuracy: 0.6187 - loss: 0.4628\n",
      "Test Loss: 0.4330119490623474, Test Accuracy: 0.6301267743110657\n"
     ]
    }
   ],
   "source": [
    "test_loss, test_accuracy = model.evaluate(X_test, y_test)\n",
    "print(f'Test Loss: {test_loss}, Test Accuracy: {test_accuracy}')"
   ]
  },
  {
   "cell_type": "code",
   "execution_count": 63,
   "metadata": {},
   "outputs": [
    {
     "name": "stdout",
     "output_type": "stream",
     "text": [
      "\u001b[1m42/42\u001b[0m \u001b[32m━━━━━━━━━━━━━━━━━━━━\u001b[0m\u001b[37m\u001b[0m \u001b[1m0s\u001b[0m 2ms/step\n"
     ]
    }
   ],
   "source": [
    "predictions = model.predict(X_test)\n",
    "# Convert probabilities to binary outputs (e.g., threshold at 0.5)\n",
    "predicted_labels = (predictions > 0.5).astype(int)"
   ]
  },
  {
   "cell_type": "code",
   "execution_count": 64,
   "metadata": {},
   "outputs": [
    {
     "data": {
      "text/plain": [
       "array([[0, 0, 0, ..., 0, 0, 0],\n",
       "       [1, 0, 0, ..., 0, 0, 0],\n",
       "       [0, 0, 0, ..., 0, 0, 0],\n",
       "       ...,\n",
       "       [0, 0, 0, ..., 0, 0, 0],\n",
       "       [1, 0, 0, ..., 0, 0, 0],\n",
       "       [0, 0, 0, ..., 0, 0, 0]])"
      ]
     },
     "execution_count": 64,
     "metadata": {},
     "output_type": "execute_result"
    }
   ],
   "source": [
    "predicted_labels"
   ]
  }
 ],
 "metadata": {
  "kernelspec": {
   "display_name": "crispdm_challenge",
   "language": "python",
   "name": "python3"
  },
  "language_info": {
   "codemirror_mode": {
    "name": "ipython",
    "version": 3
   },
   "file_extension": ".py",
   "mimetype": "text/x-python",
   "name": "python",
   "nbconvert_exporter": "python",
   "pygments_lexer": "ipython3",
   "version": "3.10.15"
  }
 },
 "nbformat": 4,
 "nbformat_minor": 2
}
